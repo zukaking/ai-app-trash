{
 "cells": [
  {
   "cell_type": "markdown",
   "metadata": {},
   "source": [
    "## AWS Sagemakerを用いたゴミの分別モデル作成と評価"
   ]
  },
  {
   "cell_type": "markdown",
   "metadata": {},
   "source": [
    "### データの準備"
   ]
  },
  {
   "cell_type": "code",
   "execution_count": 2,
   "metadata": {},
   "outputs": [],
   "source": [
    "import boto3\n",
    "import os\n",
    "from IPython.core.display import HTML\n",
    "from sagemaker import get_execution_role\n",
    "\n",
    "bucket_name = \"plism2022-sagemaker\"\n",
    "image_dir_name = \"ai-trash-classify-data\""
   ]
  },
  {
   "cell_type": "code",
   "execution_count": 3,
   "metadata": {},
   "outputs": [],
   "source": [
    "region = boto3.Session().region_name\n",
    "s3_bucket = bucket_name\n",
    "\n",
    "s3 = boto3.resource(\"s3\")\n",
    "bucket = s3.Bucket(s3_bucket)"
   ]
  },
  {
   "cell_type": "code",
   "execution_count": 4,
   "metadata": {},
   "outputs": [],
   "source": [
    "for objects in bucket.objects.all():\n",
    "    if image_dir_name in objects.key:\n",
    "        if any(key in objects.key for key in (\"jpg\", \"jpeg\", \"JPEG\", \"JPG\", \"png\")):\n",
    "            bucket.download_file(objects.key, objects.key)\n",
    "        else:\n",
    "            os.makedirs(objects.key, exist_ok=True)"
   ]
  },
  {
   "cell_type": "code",
   "execution_count": 5,
   "metadata": {
    "tags": []
   },
   "outputs": [],
   "source": [
    "import glob\n",
    "\n",
    "images = {}\n",
    "for dir_name in sorted((glob.glob(image_dir_name + \"/test/*\"))):\n",
    "    if \"smjs\" not in dir_name:\n",
    "        for filename in sorted(glob.glob(dir_name + \"/*\")):\n",
    "            with open(filename, \"rb\") as file:\n",
    "                images[filename] = file.read()"
   ]
  },
  {
   "cell_type": "markdown",
   "metadata": {},
   "source": [
    "### モデルの準備"
   ]
  },
  {
   "cell_type": "code",
   "execution_count": 6,
   "metadata": {
    "tags": []
   },
   "outputs": [],
   "source": [
    "import json\n",
    "\n",
    "def query_endpoint(img):\n",
    "    endpoint_name = 'jumpstart-dft-tf-ic-imagenet-mobilenet-v2-100-224-clas'\n",
    "    client = boto3.client('runtime.sagemaker')\n",
    "    response = client.invoke_endpoint(EndpointName=endpoint_name, ContentType='application/x-image', Body=img, Accept='application/json;verbose')\n",
    "    return response\n",
    "    \n",
    "\n",
    "def parse_prediction(query_response):\n",
    "    model_predictions = json.loads(query_response['Body'].read())\n",
    "    predicted_label = model_predictions['predicted_label']\n",
    "    labels = model_predictions['labels']\n",
    "    probabilities = model_predictions['probabilities']\n",
    "    return predicted_label, probabilities, labels "
   ]
  },
  {
   "cell_type": "markdown",
   "metadata": {},
   "source": [
    "### ゴミの分別予測"
   ]
  },
  {
   "cell_type": "markdown",
   "metadata": {},
   "source": [
    "#### 単一ラベルの予測"
   ]
  },
  {
   "cell_type": "code",
   "execution_count": 7,
   "metadata": {
    "collapsed": true,
    "jupyter": {
     "outputs_hidden": true
    },
    "tags": []
   },
   "outputs": [
    {
     "data": {
      "text/html": [
       "<img src=ai-trash-classify-data/test/001_aircap/0006_puchi_puchi.png alt=ai-trash-classify-data/test/001_aircap/0006_puchi_puchi.png align=\"left\" style=\"width: 250px;\"/><figcaption>Predicted Label is : dishrag,</figcaption><figcaption>Image Path is : ai-trash-classify-data/test/001_aircap/0006_puchi_puchi.png</figcaption>"
      ],
      "text/plain": [
       "<IPython.core.display.HTML object>"
      ]
     },
     "metadata": {},
     "output_type": "display_data"
    },
    {
     "data": {
      "text/html": [
       "<img src=ai-trash-classify-data/test/002_riceball-packaging/0002_food_bag.jpg alt=ai-trash-classify-data/test/002_riceball-packaging/0002_food_bag.jpg align=\"left\" style=\"width: 250px;\"/><figcaption>Predicted Label is : packet,</figcaption><figcaption>Image Path is : ai-trash-classify-data/test/002_riceball-packaging/0002_food_bag.jpg</figcaption>"
      ],
      "text/plain": [
       "<IPython.core.display.HTML object>"
      ]
     },
     "metadata": {},
     "output_type": "display_data"
    },
    {
     "data": {
      "text/html": [
       "<img src=ai-trash-classify-data/test/003_can/0012_can.jpg alt=ai-trash-classify-data/test/003_can/0012_can.jpg align=\"left\" style=\"width: 250px;\"/><figcaption>Predicted Label is : can opener,</figcaption><figcaption>Image Path is : ai-trash-classify-data/test/003_can/0012_can.jpg</figcaption>"
      ],
      "text/plain": [
       "<IPython.core.display.HTML object>"
      ]
     },
     "metadata": {},
     "output_type": "display_data"
    },
    {
     "data": {
      "text/html": [
       "<img src=ai-trash-classify-data/test/003_can/0013_can.jpg alt=ai-trash-classify-data/test/003_can/0013_can.jpg align=\"left\" style=\"width: 250px;\"/><figcaption>Predicted Label is : tennis ball,</figcaption><figcaption>Image Path is : ai-trash-classify-data/test/003_can/0013_can.jpg</figcaption>"
      ],
      "text/plain": [
       "<IPython.core.display.HTML object>"
      ]
     },
     "metadata": {},
     "output_type": "display_data"
    },
    {
     "data": {
      "text/html": [
       "<img src=ai-trash-classify-data/test/003_can/0014_can.jpg alt=ai-trash-classify-data/test/003_can/0014_can.jpg align=\"left\" style=\"width: 250px;\"/><figcaption>Predicted Label is : pop bottle,</figcaption><figcaption>Image Path is : ai-trash-classify-data/test/003_can/0014_can.jpg</figcaption>"
      ],
      "text/plain": [
       "<IPython.core.display.HTML object>"
      ]
     },
     "metadata": {},
     "output_type": "display_data"
    },
    {
     "data": {
      "text/html": [
       "<img src=ai-trash-classify-data/test/003_can/0015_can.jpg alt=ai-trash-classify-data/test/003_can/0015_can.jpg align=\"left\" style=\"width: 250px;\"/><figcaption>Predicted Label is : beer glass,</figcaption><figcaption>Image Path is : ai-trash-classify-data/test/003_can/0015_can.jpg</figcaption>"
      ],
      "text/plain": [
       "<IPython.core.display.HTML object>"
      ]
     },
     "metadata": {},
     "output_type": "display_data"
    },
    {
     "data": {
      "text/html": [
       "<img src=ai-trash-classify-data/test/004_tissue/0007_tissue.jpg alt=ai-trash-classify-data/test/004_tissue/0007_tissue.jpg align=\"left\" style=\"width: 250px;\"/><figcaption>Predicted Label is : lab coat,</figcaption><figcaption>Image Path is : ai-trash-classify-data/test/004_tissue/0007_tissue.jpg</figcaption>"
      ],
      "text/plain": [
       "<IPython.core.display.HTML object>"
      ]
     },
     "metadata": {},
     "output_type": "display_data"
    },
    {
     "data": {
      "text/html": [
       "<img src=ai-trash-classify-data/test/005_plastic-bag/0000_fukuro.jpg alt=ai-trash-classify-data/test/005_plastic-bag/0000_fukuro.jpg align=\"left\" style=\"width: 250px;\"/><figcaption>Predicted Label is : plastic bag,</figcaption><figcaption>Image Path is : ai-trash-classify-data/test/005_plastic-bag/0000_fukuro.jpg</figcaption>"
      ],
      "text/plain": [
       "<IPython.core.display.HTML object>"
      ]
     },
     "metadata": {},
     "output_type": "display_data"
    },
    {
     "data": {
      "text/html": [
       "<img src=ai-trash-classify-data/test/005_plastic-bag/0009_gomi5.jpg alt=ai-trash-classify-data/test/005_plastic-bag/0009_gomi5.jpg align=\"left\" style=\"width: 250px;\"/><figcaption>Predicted Label is : bonnet,</figcaption><figcaption>Image Path is : ai-trash-classify-data/test/005_plastic-bag/0009_gomi5.jpg</figcaption>"
      ],
      "text/plain": [
       "<IPython.core.display.HTML object>"
      ]
     },
     "metadata": {},
     "output_type": "display_data"
    },
    {
     "data": {
      "text/html": [
       "<img src=ai-trash-classify-data/test/006_petbottle/0012_petbottle.jpg alt=ai-trash-classify-data/test/006_petbottle/0012_petbottle.jpg align=\"left\" style=\"width: 250px;\"/><figcaption>Predicted Label is : pop bottle,</figcaption><figcaption>Image Path is : ai-trash-classify-data/test/006_petbottle/0012_petbottle.jpg</figcaption>"
      ],
      "text/plain": [
       "<IPython.core.display.HTML object>"
      ]
     },
     "metadata": {},
     "output_type": "display_data"
    },
    {
     "data": {
      "text/html": [
       "<img src=ai-trash-classify-data/test/006_petbottle/0013_petbottle.jpg alt=ai-trash-classify-data/test/006_petbottle/0013_petbottle.jpg align=\"left\" style=\"width: 250px;\"/><figcaption>Predicted Label is : water bottle,</figcaption><figcaption>Image Path is : ai-trash-classify-data/test/006_petbottle/0013_petbottle.jpg</figcaption>"
      ],
      "text/plain": [
       "<IPython.core.display.HTML object>"
      ]
     },
     "metadata": {},
     "output_type": "display_data"
    },
    {
     "data": {
      "text/html": [
       "<img src=ai-trash-classify-data/test/006_petbottle/0014_petbottle.jpg alt=ai-trash-classify-data/test/006_petbottle/0014_petbottle.jpg align=\"left\" style=\"width: 250px;\"/><figcaption>Predicted Label is : lotion,</figcaption><figcaption>Image Path is : ai-trash-classify-data/test/006_petbottle/0014_petbottle.jpg</figcaption>"
      ],
      "text/plain": [
       "<IPython.core.display.HTML object>"
      ]
     },
     "metadata": {},
     "output_type": "display_data"
    },
    {
     "data": {
      "text/html": [
       "<img src=ai-trash-classify-data/test/006_petbottle/0015_petbottle.jpg alt=ai-trash-classify-data/test/006_petbottle/0015_petbottle.jpg align=\"left\" style=\"width: 250px;\"/><figcaption>Predicted Label is : water bottle,</figcaption><figcaption>Image Path is : ai-trash-classify-data/test/006_petbottle/0015_petbottle.jpg</figcaption>"
      ],
      "text/plain": [
       "<IPython.core.display.HTML object>"
      ]
     },
     "metadata": {},
     "output_type": "display_data"
    },
    {
     "data": {
      "text/html": [
       "<img src=ai-trash-classify-data/test/007_lunchbox/0005_bento_gomi.jpeg alt=ai-trash-classify-data/test/007_lunchbox/0005_bento_gomi.jpeg align=\"left\" style=\"width: 250px;\"/><figcaption>Predicted Label is : soup bowl,</figcaption><figcaption>Image Path is : ai-trash-classify-data/test/007_lunchbox/0005_bento_gomi.jpeg</figcaption>"
      ],
      "text/plain": [
       "<IPython.core.display.HTML object>"
      ]
     },
     "metadata": {},
     "output_type": "display_data"
    },
    {
     "data": {
      "text/html": [
       "<img src=ai-trash-classify-data/test/008_snack-packaging/0003_okashi_kami.jpg alt=ai-trash-classify-data/test/008_snack-packaging/0003_okashi_kami.jpg align=\"left\" style=\"width: 250px;\"/><figcaption>Predicted Label is : hair slide,</figcaption><figcaption>Image Path is : ai-trash-classify-data/test/008_snack-packaging/0003_okashi_kami.jpg</figcaption>"
      ],
      "text/plain": [
       "<IPython.core.display.HTML object>"
      ]
     },
     "metadata": {},
     "output_type": "display_data"
    },
    {
     "data": {
      "text/html": [
       "<img src=ai-trash-classify-data/test/008_snack-packaging/0007_powerade.jpg alt=ai-trash-classify-data/test/008_snack-packaging/0007_powerade.jpg align=\"left\" style=\"width: 250px;\"/><figcaption>Predicted Label is : rubber eraser,</figcaption><figcaption>Image Path is : ai-trash-classify-data/test/008_snack-packaging/0007_powerade.jpg</figcaption>"
      ],
      "text/plain": [
       "<IPython.core.display.HTML object>"
      ]
     },
     "metadata": {},
     "output_type": "display_data"
    },
    {
     "data": {
      "text/html": [
       "<img src=ai-trash-classify-data/test/010_paper-box/0004_tissue_box.jpg alt=ai-trash-classify-data/test/010_paper-box/0004_tissue_box.jpg align=\"left\" style=\"width: 250px;\"/><figcaption>Predicted Label is : rubber eraser,</figcaption><figcaption>Image Path is : ai-trash-classify-data/test/010_paper-box/0004_tissue_box.jpg</figcaption>"
      ],
      "text/plain": [
       "<IPython.core.display.HTML object>"
      ]
     },
     "metadata": {},
     "output_type": "display_data"
    },
    {
     "data": {
      "text/html": [
       "<img src=ai-trash-classify-data/test/011_paper-waste/0006_kami.jpg alt=ai-trash-classify-data/test/011_paper-waste/0006_kami.jpg align=\"left\" style=\"width: 250px;\"/><figcaption>Predicted Label is : handkerchief,</figcaption><figcaption>Image Path is : ai-trash-classify-data/test/011_paper-waste/0006_kami.jpg</figcaption>"
      ],
      "text/plain": [
       "<IPython.core.display.HTML object>"
      ]
     },
     "metadata": {},
     "output_type": "display_data"
    },
    {
     "data": {
      "text/html": [
       "<img src=ai-trash-classify-data/test/012_paper-pack/0002_yogurt.jpg alt=ai-trash-classify-data/test/012_paper-pack/0002_yogurt.jpg align=\"left\" style=\"width: 250px;\"/><figcaption>Predicted Label is : bonnet,</figcaption><figcaption>Image Path is : ai-trash-classify-data/test/012_paper-pack/0002_yogurt.jpg</figcaption>"
      ],
      "text/plain": [
       "<IPython.core.display.HTML object>"
      ]
     },
     "metadata": {},
     "output_type": "display_data"
    }
   ],
   "source": [
    "for filename, img in images.items():\n",
    "    query_response = query_endpoint(img)\n",
    "    predicted_label, probabilities, labels = parse_prediction(query_response)\n",
    "    display(HTML(f'<img src={filename} alt={filename} align=\"left\" style=\"width: 250px;\"/>' \n",
    "                 f'<figcaption>Predicted Label is : {predicted_label},</figcaption>' \n",
    "                 f'<figcaption>Image Path is : {filename}</figcaption>'))"
   ]
  },
  {
   "cell_type": "markdown",
   "metadata": {},
   "source": [
    "#### 複数ラベルの予測"
   ]
  },
  {
   "cell_type": "code",
   "execution_count": 8,
   "metadata": {
    "collapsed": true,
    "jupyter": {
     "outputs_hidden": true
    },
    "pycharm": {
     "name": "#%%\n"
    },
    "tags": []
   },
   "outputs": [
    {
     "data": {
      "text/html": [
       "<img src=ai-trash-classify-data/test/001_aircap/0006_puchi_puchi.png alt=ai-trash-classify-data/test/001_aircap/0006_puchi_puchi.png align=\"left\" style=\"width: 250px;\"/><figcaption>Top-5 model predictions are: dishrag,wallet,laptop,handkerchief,mosquito net</figcaption><figcaption>Image Path is : ai-trash-classify-data/test/001_aircap/0006_puchi_puchi.png</figcaption>"
      ],
      "text/plain": [
       "<IPython.core.display.HTML object>"
      ]
     },
     "metadata": {},
     "output_type": "display_data"
    },
    {
     "data": {
      "text/html": [
       "<img src=ai-trash-classify-data/test/002_riceball-packaging/0002_food_bag.jpg alt=ai-trash-classify-data/test/002_riceball-packaging/0002_food_bag.jpg align=\"left\" style=\"width: 250px;\"/><figcaption>Top-5 model predictions are: packet,plastic bag,diaper,envelope,paper towel</figcaption><figcaption>Image Path is : ai-trash-classify-data/test/002_riceball-packaging/0002_food_bag.jpg</figcaption>"
      ],
      "text/plain": [
       "<IPython.core.display.HTML object>"
      ]
     },
     "metadata": {},
     "output_type": "display_data"
    },
    {
     "data": {
      "text/html": [
       "<img src=ai-trash-classify-data/test/003_can/0012_can.jpg alt=ai-trash-classify-data/test/003_can/0012_can.jpg align=\"left\" style=\"width: 250px;\"/><figcaption>Top-5 model predictions are: can opener,Crock Pot,oil filter,hamper,ashcan</figcaption><figcaption>Image Path is : ai-trash-classify-data/test/003_can/0012_can.jpg</figcaption>"
      ],
      "text/plain": [
       "<IPython.core.display.HTML object>"
      ]
     },
     "metadata": {},
     "output_type": "display_data"
    },
    {
     "data": {
      "text/html": [
       "<img src=ai-trash-classify-data/test/003_can/0013_can.jpg alt=ai-trash-classify-data/test/003_can/0013_can.jpg align=\"left\" style=\"width: 250px;\"/><figcaption>Top-5 model predictions are: tennis ball,beer glass,packet,beer bottle,lotion</figcaption><figcaption>Image Path is : ai-trash-classify-data/test/003_can/0013_can.jpg</figcaption>"
      ],
      "text/plain": [
       "<IPython.core.display.HTML object>"
      ]
     },
     "metadata": {},
     "output_type": "display_data"
    },
    {
     "data": {
      "text/html": [
       "<img src=ai-trash-classify-data/test/003_can/0014_can.jpg alt=ai-trash-classify-data/test/003_can/0014_can.jpg align=\"left\" style=\"width: 250px;\"/><figcaption>Top-5 model predictions are: pop bottle,beer bottle,can opener,coffee mug,lighter</figcaption><figcaption>Image Path is : ai-trash-classify-data/test/003_can/0014_can.jpg</figcaption>"
      ],
      "text/plain": [
       "<IPython.core.display.HTML object>"
      ]
     },
     "metadata": {},
     "output_type": "display_data"
    },
    {
     "data": {
      "text/html": [
       "<img src=ai-trash-classify-data/test/003_can/0015_can.jpg alt=ai-trash-classify-data/test/003_can/0015_can.jpg align=\"left\" style=\"width: 250px;\"/><figcaption>Top-5 model predictions are: beer glass,coffee mug,cocktail shaker,barrel,ashcan</figcaption><figcaption>Image Path is : ai-trash-classify-data/test/003_can/0015_can.jpg</figcaption>"
      ],
      "text/plain": [
       "<IPython.core.display.HTML object>"
      ]
     },
     "metadata": {},
     "output_type": "display_data"
    },
    {
     "data": {
      "text/html": [
       "<img src=ai-trash-classify-data/test/004_tissue/0007_tissue.jpg alt=ai-trash-classify-data/test/004_tissue/0007_tissue.jpg align=\"left\" style=\"width: 250px;\"/><figcaption>Top-5 model predictions are: lab coat,toilet tissue,oxygen mask,hook,plastic bag</figcaption><figcaption>Image Path is : ai-trash-classify-data/test/004_tissue/0007_tissue.jpg</figcaption>"
      ],
      "text/plain": [
       "<IPython.core.display.HTML object>"
      ]
     },
     "metadata": {},
     "output_type": "display_data"
    },
    {
     "data": {
      "text/html": [
       "<img src=ai-trash-classify-data/test/005_plastic-bag/0000_fukuro.jpg alt=ai-trash-classify-data/test/005_plastic-bag/0000_fukuro.jpg align=\"left\" style=\"width: 250px;\"/><figcaption>Top-5 model predictions are: plastic bag,diaper,shower cap,mailbag,hoopskirt</figcaption><figcaption>Image Path is : ai-trash-classify-data/test/005_plastic-bag/0000_fukuro.jpg</figcaption>"
      ],
      "text/plain": [
       "<IPython.core.display.HTML object>"
      ]
     },
     "metadata": {},
     "output_type": "display_data"
    },
    {
     "data": {
      "text/html": [
       "<img src=ai-trash-classify-data/test/005_plastic-bag/0009_gomi5.jpg alt=ai-trash-classify-data/test/005_plastic-bag/0009_gomi5.jpg align=\"left\" style=\"width: 250px;\"/><figcaption>Top-5 model predictions are: bonnet,plastic bag,diaper,shower cap,handkerchief</figcaption><figcaption>Image Path is : ai-trash-classify-data/test/005_plastic-bag/0009_gomi5.jpg</figcaption>"
      ],
      "text/plain": [
       "<IPython.core.display.HTML object>"
      ]
     },
     "metadata": {},
     "output_type": "display_data"
    },
    {
     "data": {
      "text/html": [
       "<img src=ai-trash-classify-data/test/006_petbottle/0012_petbottle.jpg alt=ai-trash-classify-data/test/006_petbottle/0012_petbottle.jpg align=\"left\" style=\"width: 250px;\"/><figcaption>Top-5 model predictions are: pop bottle,water bottle,beer bottle,Christmas stocking,French bulldog</figcaption><figcaption>Image Path is : ai-trash-classify-data/test/006_petbottle/0012_petbottle.jpg</figcaption>"
      ],
      "text/plain": [
       "<IPython.core.display.HTML object>"
      ]
     },
     "metadata": {},
     "output_type": "display_data"
    },
    {
     "data": {
      "text/html": [
       "<img src=ai-trash-classify-data/test/006_petbottle/0013_petbottle.jpg alt=ai-trash-classify-data/test/006_petbottle/0013_petbottle.jpg align=\"left\" style=\"width: 250px;\"/><figcaption>Top-5 model predictions are: water bottle,pill bottle,pop bottle,beer bottle,nipple</figcaption><figcaption>Image Path is : ai-trash-classify-data/test/006_petbottle/0013_petbottle.jpg</figcaption>"
      ],
      "text/plain": [
       "<IPython.core.display.HTML object>"
      ]
     },
     "metadata": {},
     "output_type": "display_data"
    },
    {
     "data": {
      "text/html": [
       "<img src=ai-trash-classify-data/test/006_petbottle/0014_petbottle.jpg alt=ai-trash-classify-data/test/006_petbottle/0014_petbottle.jpg align=\"left\" style=\"width: 250px;\"/><figcaption>Top-5 model predictions are: lotion,hair spray,sunscreen,pop bottle,pill bottle</figcaption><figcaption>Image Path is : ai-trash-classify-data/test/006_petbottle/0014_petbottle.jpg</figcaption>"
      ],
      "text/plain": [
       "<IPython.core.display.HTML object>"
      ]
     },
     "metadata": {},
     "output_type": "display_data"
    },
    {
     "data": {
      "text/html": [
       "<img src=ai-trash-classify-data/test/006_petbottle/0015_petbottle.jpg alt=ai-trash-classify-data/test/006_petbottle/0015_petbottle.jpg align=\"left\" style=\"width: 250px;\"/><figcaption>Top-5 model predictions are: water bottle,pop bottle,cocktail shaker,hair spray,wine bottle</figcaption><figcaption>Image Path is : ai-trash-classify-data/test/006_petbottle/0015_petbottle.jpg</figcaption>"
      ],
      "text/plain": [
       "<IPython.core.display.HTML object>"
      ]
     },
     "metadata": {},
     "output_type": "display_data"
    },
    {
     "data": {
      "text/html": [
       "<img src=ai-trash-classify-data/test/007_lunchbox/0005_bento_gomi.jpeg alt=ai-trash-classify-data/test/007_lunchbox/0005_bento_gomi.jpeg align=\"left\" style=\"width: 250px;\"/><figcaption>Top-5 model predictions are: soup bowl,wooden spoon,consomme,spindle,drumstick</figcaption><figcaption>Image Path is : ai-trash-classify-data/test/007_lunchbox/0005_bento_gomi.jpeg</figcaption>"
      ],
      "text/plain": [
       "<IPython.core.display.HTML object>"
      ]
     },
     "metadata": {},
     "output_type": "display_data"
    },
    {
     "data": {
      "text/html": [
       "<img src=ai-trash-classify-data/test/008_snack-packaging/0003_okashi_kami.jpg alt=ai-trash-classify-data/test/008_snack-packaging/0003_okashi_kami.jpg align=\"left\" style=\"width: 250px;\"/><figcaption>Top-5 model predictions are: hair slide,buckle,letter opener,bolo tie,pinwheel</figcaption><figcaption>Image Path is : ai-trash-classify-data/test/008_snack-packaging/0003_okashi_kami.jpg</figcaption>"
      ],
      "text/plain": [
       "<IPython.core.display.HTML object>"
      ]
     },
     "metadata": {},
     "output_type": "display_data"
    },
    {
     "data": {
      "text/html": [
       "<img src=ai-trash-classify-data/test/008_snack-packaging/0007_powerade.jpg alt=ai-trash-classify-data/test/008_snack-packaging/0007_powerade.jpg align=\"left\" style=\"width: 250px;\"/><figcaption>Top-5 model predictions are: rubber eraser,shower cap,purse,candle,oil filter</figcaption><figcaption>Image Path is : ai-trash-classify-data/test/008_snack-packaging/0007_powerade.jpg</figcaption>"
      ],
      "text/plain": [
       "<IPython.core.display.HTML object>"
      ]
     },
     "metadata": {},
     "output_type": "display_data"
    },
    {
     "data": {
      "text/html": [
       "<img src=ai-trash-classify-data/test/010_paper-box/0004_tissue_box.jpg alt=ai-trash-classify-data/test/010_paper-box/0004_tissue_box.jpg align=\"left\" style=\"width: 250px;\"/><figcaption>Top-5 model predictions are: rubber eraser,pencil sharpener,modem,packet,pencil box</figcaption><figcaption>Image Path is : ai-trash-classify-data/test/010_paper-box/0004_tissue_box.jpg</figcaption>"
      ],
      "text/plain": [
       "<IPython.core.display.HTML object>"
      ]
     },
     "metadata": {},
     "output_type": "display_data"
    },
    {
     "data": {
      "text/html": [
       "<img src=ai-trash-classify-data/test/011_paper-waste/0006_kami.jpg alt=ai-trash-classify-data/test/011_paper-waste/0006_kami.jpg align=\"left\" style=\"width: 250px;\"/><figcaption>Top-5 model predictions are: handkerchief,paper towel,bonnet,packet,gown</figcaption><figcaption>Image Path is : ai-trash-classify-data/test/011_paper-waste/0006_kami.jpg</figcaption>"
      ],
      "text/plain": [
       "<IPython.core.display.HTML object>"
      ]
     },
     "metadata": {},
     "output_type": "display_data"
    },
    {
     "data": {
      "text/html": [
       "<img src=ai-trash-classify-data/test/012_paper-pack/0002_yogurt.jpg alt=ai-trash-classify-data/test/012_paper-pack/0002_yogurt.jpg align=\"left\" style=\"width: 250px;\"/><figcaption>Top-5 model predictions are: bonnet,water bottle,drum,pillow,shower cap</figcaption><figcaption>Image Path is : ai-trash-classify-data/test/012_paper-pack/0002_yogurt.jpg</figcaption>"
      ],
      "text/plain": [
       "<IPython.core.display.HTML object>"
      ]
     },
     "metadata": {},
     "output_type": "display_data"
    }
   ],
   "source": [
    "def predict_top_k_labels(probabilities, labels,k):\n",
    "    topk_prediction_ids = sorted(range(len(probabilities)), key=lambda index: probabilities[index], reverse=True)[:k]\n",
    "    topk_class_labels = \",\".join([labels[id] for id in topk_prediction_ids])\n",
    "    return  topk_class_labels\n",
    "\n",
    "predicted_labels_list = []\n",
    "for filename, img in images.items():\n",
    "    dir_name, img_name = filename.split(\"/\")[1], filename.split(\"/\")[2]\n",
    "    \n",
    "    model_predictions = query_endpoint(img)\n",
    "    predicted_label, probabilities, labels = parse_prediction(model_predictions)\n",
    "    top5_class_labels = predict_top_k_labels(probabilities,labels,5)\n",
    "    \n",
    "    predicted_labels = top5_class_labels.split(\",\")\n",
    "    predicted_labels.insert(0, img_name)\n",
    "    predicted_labels.insert(0, dir_name)\n",
    "    predicted_labels_list.append(predicted_labels)\n",
    "    \n",
    "    display(HTML(f'<img src={filename} alt={filename} align=\"left\" style=\"width: 250px;\"/>' \n",
    "                 f'<figcaption>Top-5 model predictions are: {top5_class_labels}</figcaption>' \n",
    "                 f'<figcaption>Image Path is : {filename}</figcaption>'))"
   ]
  },
  {
   "cell_type": "markdown",
   "metadata": {},
   "source": [
    "### 予測結果の保存"
   ]
  },
  {
   "cell_type": "code",
   "execution_count": 9,
   "metadata": {},
   "outputs": [],
   "source": [
    "import pandas as pd"
   ]
  },
  {
   "cell_type": "code",
   "execution_count": 10,
   "metadata": {},
   "outputs": [],
   "source": [
    "dataframe_name = \"predict_result_finetuned_11_14.xlsx\"\n",
    "column_name = [\"dir_path\", \"img_name\", \"1st\", \"2nd\", \"3rd\", \"4th\", \"5th\"]\n",
    "\n",
    "predicted_result_df = pd.DataFrame(predicted_labels_list, columns=column_name)\n",
    "predicted_result_df.to_excel(dataframe_name, index=False)"
   ]
  },
  {
   "cell_type": "markdown",
   "metadata": {},
   "source": [
    "### ImageNetラベルを日本語に変換"
   ]
  },
  {
   "cell_type": "code",
   "execution_count": 11,
   "metadata": {},
   "outputs": [],
   "source": [
    "import pandas as pd\n",
    "import label_translation_en_to_ja as lt\n",
    "\n",
    "translator = lt.Ilsvrc2012Japanese()"
   ]
  },
  {
   "cell_type": "code",
   "execution_count": 12,
   "metadata": {},
   "outputs": [],
   "source": [
    "en_labels_list = pd.read_excel(dataframe_name)\n",
    "ja_labels_list = en_labels_list.copy()\n",
    "for key_row, labels in en_labels_list.iterrows():\n",
    "    for key_col, label in enumerate(labels):\n",
    "        if translator.convert(label):\n",
    "            ja_labels_list.iat[key_row, key_col] = translator.convert(label)"
   ]
  },
  {
   "cell_type": "code",
   "execution_count": 13,
   "metadata": {
    "collapsed": true,
    "jupyter": {
     "outputs_hidden": true
    },
    "tags": []
   },
   "outputs": [
    {
     "data": {
      "text/html": [
       "<div>\n",
       "<style scoped>\n",
       "    .dataframe tbody tr th:only-of-type {\n",
       "        vertical-align: middle;\n",
       "    }\n",
       "\n",
       "    .dataframe tbody tr th {\n",
       "        vertical-align: top;\n",
       "    }\n",
       "\n",
       "    .dataframe thead th {\n",
       "        text-align: right;\n",
       "    }\n",
       "</style>\n",
       "<table border=\"1\" class=\"dataframe\">\n",
       "  <thead>\n",
       "    <tr style=\"text-align: right;\">\n",
       "      <th></th>\n",
       "      <th>dir_path</th>\n",
       "      <th>img_name</th>\n",
       "      <th>1st</th>\n",
       "      <th>2nd</th>\n",
       "      <th>3rd</th>\n",
       "      <th>4th</th>\n",
       "      <th>5th</th>\n",
       "    </tr>\n",
       "  </thead>\n",
       "  <tbody>\n",
       "    <tr>\n",
       "      <th>0</th>\n",
       "      <td>test</td>\n",
       "      <td>001_aircap</td>\n",
       "      <td>布巾（お皿拭き）</td>\n",
       "      <td>財布</td>\n",
       "      <td>ノートパソコン</td>\n",
       "      <td>ハンカチ</td>\n",
       "      <td>蚊帳</td>\n",
       "    </tr>\n",
       "    <tr>\n",
       "      <th>1</th>\n",
       "      <td>test</td>\n",
       "      <td>002_riceball-packaging</td>\n",
       "      <td>パケット</td>\n",
       "      <td>ビニール袋</td>\n",
       "      <td>おむつ</td>\n",
       "      <td>封筒／エンベロープ</td>\n",
       "      <td>ペーパータオル</td>\n",
       "    </tr>\n",
       "    <tr>\n",
       "      <th>2</th>\n",
       "      <td>test</td>\n",
       "      <td>003_can</td>\n",
       "      <td>缶切り</td>\n",
       "      <td>電気なべ</td>\n",
       "      <td>オイルフィルター</td>\n",
       "      <td>妨げる</td>\n",
       "      <td>ゴミ捨て缶</td>\n",
       "    </tr>\n",
       "    <tr>\n",
       "      <th>3</th>\n",
       "      <td>test</td>\n",
       "      <td>003_can</td>\n",
       "      <td>テニスボール</td>\n",
       "      <td>ビアグラス</td>\n",
       "      <td>パケット</td>\n",
       "      <td>ビール瓶</td>\n",
       "      <td>ローション</td>\n",
       "    </tr>\n",
       "    <tr>\n",
       "      <th>4</th>\n",
       "      <td>test</td>\n",
       "      <td>003_can</td>\n",
       "      <td>ポップなボトル</td>\n",
       "      <td>ビール瓶</td>\n",
       "      <td>缶切り</td>\n",
       "      <td>コーヒーマグカップ</td>\n",
       "      <td>ライター</td>\n",
       "    </tr>\n",
       "    <tr>\n",
       "      <th>5</th>\n",
       "      <td>test</td>\n",
       "      <td>003_can</td>\n",
       "      <td>ビアグラス</td>\n",
       "      <td>コーヒーマグカップ</td>\n",
       "      <td>シェイカー</td>\n",
       "      <td>バレル</td>\n",
       "      <td>ゴミ捨て缶</td>\n",
       "    </tr>\n",
       "    <tr>\n",
       "      <th>6</th>\n",
       "      <td>test</td>\n",
       "      <td>004_tissue</td>\n",
       "      <td>白衣</td>\n",
       "      <td>トイレットペーパー</td>\n",
       "      <td>酸素マスク</td>\n",
       "      <td>フック</td>\n",
       "      <td>ビニール袋</td>\n",
       "    </tr>\n",
       "    <tr>\n",
       "      <th>7</th>\n",
       "      <td>test</td>\n",
       "      <td>005_plastic-bag</td>\n",
       "      <td>ビニール袋</td>\n",
       "      <td>おむつ</td>\n",
       "      <td>シャワーキャップ</td>\n",
       "      <td>郵袋</td>\n",
       "      <td>フープスカート</td>\n",
       "    </tr>\n",
       "    <tr>\n",
       "      <th>8</th>\n",
       "      <td>test</td>\n",
       "      <td>005_plastic-bag</td>\n",
       "      <td>ボンネット</td>\n",
       "      <td>ビニール袋</td>\n",
       "      <td>おむつ</td>\n",
       "      <td>シャワーキャップ</td>\n",
       "      <td>ハンカチ</td>\n",
       "    </tr>\n",
       "    <tr>\n",
       "      <th>9</th>\n",
       "      <td>test</td>\n",
       "      <td>006_petbottle</td>\n",
       "      <td>ポップなボトル</td>\n",
       "      <td>ウォーターボトル</td>\n",
       "      <td>ビール瓶</td>\n",
       "      <td>クリスマスの靴下</td>\n",
       "      <td>犬（フレンチ・ブルドッグ）</td>\n",
       "    </tr>\n",
       "    <tr>\n",
       "      <th>10</th>\n",
       "      <td>test</td>\n",
       "      <td>006_petbottle</td>\n",
       "      <td>ウォーターボトル</td>\n",
       "      <td>錠剤瓶</td>\n",
       "      <td>ポップなボトル</td>\n",
       "      <td>ビール瓶</td>\n",
       "      <td>乳首</td>\n",
       "    </tr>\n",
       "    <tr>\n",
       "      <th>11</th>\n",
       "      <td>test</td>\n",
       "      <td>006_petbottle</td>\n",
       "      <td>ローション</td>\n",
       "      <td>ヘアスプレー</td>\n",
       "      <td>日焼け止め</td>\n",
       "      <td>ポップなボトル</td>\n",
       "      <td>錠剤瓶</td>\n",
       "    </tr>\n",
       "    <tr>\n",
       "      <th>12</th>\n",
       "      <td>test</td>\n",
       "      <td>006_petbottle</td>\n",
       "      <td>ウォーターボトル</td>\n",
       "      <td>ポップなボトル</td>\n",
       "      <td>シェイカー</td>\n",
       "      <td>ヘアスプレー</td>\n",
       "      <td>ワインボトル</td>\n",
       "    </tr>\n",
       "    <tr>\n",
       "      <th>13</th>\n",
       "      <td>test</td>\n",
       "      <td>007_lunchbox</td>\n",
       "      <td>スープボール</td>\n",
       "      <td>木製スプーン</td>\n",
       "      <td>コンソメスープ</td>\n",
       "      <td>スピンドル</td>\n",
       "      <td>ドラムスティック</td>\n",
       "    </tr>\n",
       "    <tr>\n",
       "      <th>14</th>\n",
       "      <td>test</td>\n",
       "      <td>008_snack-packaging</td>\n",
       "      <td>髪留め</td>\n",
       "      <td>バックル</td>\n",
       "      <td>ペーパーナイフ</td>\n",
       "      <td>ボータイ（ネクタイ）</td>\n",
       "      <td>風車</td>\n",
       "    </tr>\n",
       "    <tr>\n",
       "      <th>15</th>\n",
       "      <td>test</td>\n",
       "      <td>008_snack-packaging</td>\n",
       "      <td>消しゴム</td>\n",
       "      <td>シャワーキャップ</td>\n",
       "      <td>財布</td>\n",
       "      <td>キャンドル</td>\n",
       "      <td>オイルフィルター</td>\n",
       "    </tr>\n",
       "    <tr>\n",
       "      <th>16</th>\n",
       "      <td>test</td>\n",
       "      <td>010_paper-box</td>\n",
       "      <td>消しゴム</td>\n",
       "      <td>鉛筆削り</td>\n",
       "      <td>モデム</td>\n",
       "      <td>パケット</td>\n",
       "      <td>筆箱</td>\n",
       "    </tr>\n",
       "    <tr>\n",
       "      <th>17</th>\n",
       "      <td>test</td>\n",
       "      <td>011_paper-waste</td>\n",
       "      <td>ハンカチ</td>\n",
       "      <td>ペーパータオル</td>\n",
       "      <td>ボンネット</td>\n",
       "      <td>パケット</td>\n",
       "      <td>ガウン</td>\n",
       "    </tr>\n",
       "    <tr>\n",
       "      <th>18</th>\n",
       "      <td>test</td>\n",
       "      <td>012_paper-pack</td>\n",
       "      <td>ボンネット</td>\n",
       "      <td>ウォーターボトル</td>\n",
       "      <td>ドラム</td>\n",
       "      <td>枕</td>\n",
       "      <td>シャワーキャップ</td>\n",
       "    </tr>\n",
       "  </tbody>\n",
       "</table>\n",
       "</div>"
      ],
      "text/plain": [
       "   dir_path                img_name       1st        2nd       3rd  \\\n",
       "0      test              001_aircap  布巾（お皿拭き）         財布   ノートパソコン   \n",
       "1      test  002_riceball-packaging      パケット      ビニール袋       おむつ   \n",
       "2      test                 003_can       缶切り       電気なべ  オイルフィルター   \n",
       "3      test                 003_can    テニスボール      ビアグラス      パケット   \n",
       "4      test                 003_can   ポップなボトル       ビール瓶       缶切り   \n",
       "5      test                 003_can     ビアグラス  コーヒーマグカップ     シェイカー   \n",
       "6      test              004_tissue        白衣  トイレットペーパー     酸素マスク   \n",
       "7      test         005_plastic-bag     ビニール袋        おむつ  シャワーキャップ   \n",
       "8      test         005_plastic-bag     ボンネット      ビニール袋       おむつ   \n",
       "9      test           006_petbottle   ポップなボトル   ウォーターボトル      ビール瓶   \n",
       "10     test           006_petbottle  ウォーターボトル        錠剤瓶   ポップなボトル   \n",
       "11     test           006_petbottle     ローション     ヘアスプレー     日焼け止め   \n",
       "12     test           006_petbottle  ウォーターボトル    ポップなボトル     シェイカー   \n",
       "13     test            007_lunchbox    スープボール     木製スプーン   コンソメスープ   \n",
       "14     test     008_snack-packaging       髪留め       バックル   ペーパーナイフ   \n",
       "15     test     008_snack-packaging      消しゴム   シャワーキャップ        財布   \n",
       "16     test           010_paper-box      消しゴム       鉛筆削り       モデム   \n",
       "17     test         011_paper-waste      ハンカチ    ペーパータオル     ボンネット   \n",
       "18     test          012_paper-pack     ボンネット   ウォーターボトル       ドラム   \n",
       "\n",
       "           4th            5th  \n",
       "0         ハンカチ             蚊帳  \n",
       "1    封筒／エンベロープ        ペーパータオル  \n",
       "2          妨げる          ゴミ捨て缶  \n",
       "3         ビール瓶          ローション  \n",
       "4    コーヒーマグカップ           ライター  \n",
       "5          バレル          ゴミ捨て缶  \n",
       "6          フック          ビニール袋  \n",
       "7           郵袋        フープスカート  \n",
       "8     シャワーキャップ           ハンカチ  \n",
       "9     クリスマスの靴下  犬（フレンチ・ブルドッグ）  \n",
       "10        ビール瓶             乳首  \n",
       "11     ポップなボトル            錠剤瓶  \n",
       "12      ヘアスプレー         ワインボトル  \n",
       "13       スピンドル       ドラムスティック  \n",
       "14  ボータイ（ネクタイ）             風車  \n",
       "15       キャンドル       オイルフィルター  \n",
       "16        パケット             筆箱  \n",
       "17        パケット            ガウン  \n",
       "18           枕       シャワーキャップ  "
      ]
     },
     "execution_count": 13,
     "metadata": {},
     "output_type": "execute_result"
    }
   ],
   "source": [
    "ja_labels_list"
   ]
  },
  {
   "cell_type": "markdown",
   "metadata": {},
   "source": [
    "### 予測結果の評価"
   ]
  },
  {
   "cell_type": "code",
   "execution_count": 14,
   "metadata": {
    "tags": []
   },
   "outputs": [],
   "source": [
    "result_df = pd.read_excel(dataframe_name)"
   ]
  },
  {
   "cell_type": "code",
   "execution_count": 15,
   "metadata": {},
   "outputs": [],
   "source": [
    "correct_num = 0\n",
    "predict_nums = 1 # 1~5\n",
    "\n",
    "for index, result in result_df.iterrows():\n",
    "    predict_labels = result.iloc[2:2+predict_nums]\n",
    "    correct_label = result[\"img_name\"]\n",
    "    \n",
    "    for predict_label in predict_labels:\n",
    "        if predict_label == correct_label:\n",
    "            correct_num += 1\n",
    "            break"
   ]
  },
  {
   "cell_type": "code",
   "execution_count": 16,
   "metadata": {},
   "outputs": [
    {
     "name": "stdout",
     "output_type": "stream",
     "text": [
      "Top1-Accuray = 0.0\n"
     ]
    }
   ],
   "source": [
    "accuracy = correct_num / len(result_df)\n",
    "print(\"Top{}-Accuray = {}\".format(predict_nums, accuracy))"
   ]
  },
  {
   "cell_type": "code",
   "execution_count": null,
   "metadata": {},
   "outputs": [],
   "source": []
  }
 ],
 "metadata": {
  "instance_type": "ml.t3.medium",
  "kernelspec": {
   "display_name": "Python 3 (Data Science)",
   "language": "python",
   "name": "python3__SAGEMAKER_INTERNAL__arn:aws:sagemaker:ap-northeast-1:102112518831:image/datascience-1.0"
  },
  "language_info": {
   "codemirror_mode": {
    "name": "ipython",
    "version": 3
   },
   "file_extension": ".py",
   "mimetype": "text/x-python",
   "name": "python",
   "nbconvert_exporter": "python",
   "pygments_lexer": "ipython3",
   "version": "3.7.10"
  },
  "pycharm": {
   "stem_cell": {
    "cell_type": "raw",
    "metadata": {
     "collapsed": false
    },
    "source": []
   }
  },
  "toc-autonumbering": true
 },
 "nbformat": 4,
 "nbformat_minor": 4
}
